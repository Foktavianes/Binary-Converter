{
 "cells": [
  {
   "cell_type": "code",
   "execution_count": 1,
   "id": "8f878733",
   "metadata": {},
   "outputs": [
    {
     "name": "stdout",
     "output_type": "stream",
     "text": [
      "44.75\n",
      "-13.28125\n",
      "-21.25\n"
     ]
    }
   ],
   "source": [
    "def fromFixedPoint(w: int, b:int, bits:[int]) -> float:\n",
    "    real_number = 0 \n",
    "    if bits[0] == 1:\n",
    "        real_number += -bits[0] *2**(w-1-b)\n",
    "    for i in range(1,w):\n",
    "        real_number += bits[i] * (2**(w-1-i-b))\n",
    "    return real_number\n",
    "\n",
    "print(fromFixedPoint(10, 3, [0, 1, 0, 1, 1, 0, 0, 1, 1, 0]))\n",
    "print(fromFixedPoint(10, 5, [1, 0, 0, 1, 0, 1, 0, 1, 1, 1]))\n",
    "print(fromFixedPoint(8, 2, [1, 0, 1, 0, 1, 0, 1, 1]))"
   ]
  },
  {
   "cell_type": "code",
   "execution_count": 2,
   "id": "79347523",
   "metadata": {},
   "outputs": [
    {
     "name": "stdout",
     "output_type": "stream",
     "text": [
      "[1, 1, 1, 0, 1, 1, 0, 0]\n",
      "[1, 1, 1, 0, 1, 1, 0, 1]\n",
      "[0, 0, 0, 0, 0, 0, 0, 0]\n"
     ]
    }
   ],
   "source": [
    "def toFixedPoint(x : float, w : int, b : int) -> [int]:\n",
    "# set a[w-1] to 1 if x < 0, otherwise set a[w-1] to 0\n",
    "    a = [0 for i in range(w)]\n",
    "    if x < 0:\n",
    "        a[0] = 1\n",
    "        x += 2**(w-1-b)\n",
    "        for i in range(1, w):\n",
    "            y = x / (2**(w-1-i-b))\n",
    "            a[i] = int(y) # round y down to integer\n",
    "            x -= a[i] * (2**(w-1-i-b))\n",
    "    return a\n",
    "\n",
    "print(toFixedPoint(-10, 8, 1))\n",
    "print(toFixedPoint(-9.5, 8, 1))\n",
    "print(toFixedPoint(9.25, 8, 2))"
   ]
  }
 ],
 "metadata": {
  "kernelspec": {
   "display_name": "Python 3 (ipykernel)",
   "language": "python",
   "name": "python3"
  },
  "language_info": {
   "codemirror_mode": {
    "name": "ipython",
    "version": 3
   },
   "file_extension": ".py",
   "mimetype": "text/x-python",
   "name": "python",
   "nbconvert_exporter": "python",
   "pygments_lexer": "ipython3",
   "version": "3.9.13"
  }
 },
 "nbformat": 4,
 "nbformat_minor": 5
}
